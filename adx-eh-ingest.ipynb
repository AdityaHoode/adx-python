{
 "cells": [
  {
   "cell_type": "code",
   "execution_count": null,
   "metadata": {},
   "outputs": [],
   "source": [
    "!pip install azure.eventhub"
   ]
  },
  {
   "cell_type": "code",
   "execution_count": null,
   "metadata": {},
   "outputs": [],
   "source": [
    "import asyncio\n",
    "from azure.eventhub.aio import EventHubProducerClient\n",
    "from azure.eventhub import EventData\n",
    "import json"
   ]
  },
  {
   "cell_type": "code",
   "execution_count": null,
   "metadata": {},
   "outputs": [],
   "source": [
    "!pip install nest_asyncio\n",
    "import nest_asyncio\n",
    "nest_asyncio.apply()"
   ]
  },
  {
   "cell_type": "code",
   "execution_count": null,
   "metadata": {},
   "outputs": [],
   "source": [
    "connection_str = '<Connection string-primary key>' # found under Shared Access Policies \n",
    "consumer_group = '<Consumer Group Name>'\n",
    "eventhub_name = '<EventHub Name>'"
   ]
  },
  {
   "cell_type": "code",
   "execution_count": null,
   "metadata": {},
   "outputs": [],
   "source": [
    "def readjson():\n",
    "    with open(\"StormEvents.json\", \"r\") as read_file:\n",
    "        data = json.load(read_file)\n",
    "    return data"
   ]
  },
  {
   "cell_type": "code",
   "execution_count": null,
   "metadata": {},
   "outputs": [],
   "source": [
    "async def create_batch(client):\n",
    "    event_data_batch = await client.create_batch()\n",
    "    data = readjson()\n",
    "    can_add = True\n",
    "    for i in range(10):\n",
    "        try:\n",
    "            event_data_batch.add(EventData(str(data[i])))\n",
    "        except ValueError:\n",
    "            can_add = False  # EventDataBatch object reaches max_size.\n",
    "    return event_data_batch"
   ]
  },
  {
   "cell_type": "code",
   "execution_count": null,
   "metadata": {},
   "outputs": [],
   "source": [
    "async def send():\n",
    "    client = EventHubProducerClient.from_connection_string(connection_str, eventhub_name=eventhub_name)\n",
    "    batch_data = await create_batch(client)\n",
    "    async with client:\n",
    "        await client.send_batch(batch_data)"
   ]
  },
  {
   "cell_type": "code",
   "execution_count": null,
   "metadata": {},
   "outputs": [],
   "source": [
    "loop = asyncio.get_event_loop()\n",
    "loop.run_until_complete(send())"
   ]
  }
 ],
 "metadata": {
  "kernelspec": {
   "display_name": "Python 3",
   "language": "python",
   "name": "python3"
  },
  "language_info": {
   "codemirror_mode": {
    "name": "ipython",
    "version": 3
   },
   "file_extension": ".py",
   "mimetype": "text/x-python",
   "name": "python",
   "nbconvert_exporter": "python",
   "pygments_lexer": "ipython3",
   "version": "3.7.3"
  }
 },
 "nbformat": 4,
 "nbformat_minor": 2
}
