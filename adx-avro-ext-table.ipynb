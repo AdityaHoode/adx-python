{
 "cells": [
  {
   "cell_type": "code",
   "execution_count": null,
   "metadata": {
    "application/vnd.databricks.v1+cell": {
     "inputWidgets": {},
     "nuid": "0c97bb72-6f05-4057-b510-ad1d03b31cd2",
     "showTitle": false,
     "title": ""
    }
   },
   "outputs": [],
   "source": [
    "!pip install azure-kusto-data\n",
    "!pip install azure-kusto-ingest\n",
    "!pip install azure-storage-blob\n",
    "!pip install avro"
   ]
  },
  {
   "cell_type": "code",
   "execution_count": null,
   "metadata": {
    "application/vnd.databricks.v1+cell": {
     "inputWidgets": {},
     "nuid": "ec482111-cb72-4d36-ab9e-b3988b605be1",
     "showTitle": false,
     "title": ""
    }
   },
   "outputs": [],
   "source": [
    "from azure.kusto.data import KustoClient, KustoConnectionStringBuilder\n",
    "from azure.kusto.data.exceptions import KustoServiceError\n",
    "from azure.kusto.data.helpers import dataframe_from_result_table\n",
    "\n",
    "from azure.storage.blob import BlobServiceClient, BlobClient, ContainerClient\n",
    "\n",
    "import avro.schema \n",
    "from avro.datafile import DataFileReader \n",
    "from avro.io import DatumReader\n",
    "\n",
    "import json"
   ]
  },
  {
   "cell_type": "code",
   "execution_count": null,
   "metadata": {
    "application/vnd.databricks.v1+cell": {
     "inputWidgets": {},
     "nuid": "e88bdcb2-698a-42b2-b3ef-a4d62a6093da",
     "showTitle": false,
     "title": ""
    }
   },
   "outputs": [],
   "source": [
    "FILE_NAME = \"<FILE_PATH>\"\n",
    "CONTAINER_NAME = \"<CONTAINER_NAME>\"\n",
    "CONN_STR = \"<CONNECTION_STR>\" # from Access Keys\n",
    "blob_service_client = BlobServiceClient.from_connection_string(CONN_STR)\n",
    "container_client = blob_service_client.get_container_client(CONTAINER_NAME)\n",
    "blob_client = container_client.get_blob_client(FILE_NAME)\n",
    "stream_downloader = blob_client.download_blob()"
   ]
  },
  {
   "cell_type": "code",
   "execution_count": null,
   "metadata": {
    "application/vnd.databricks.v1+cell": {
     "inputWidgets": {},
     "nuid": "56b0e90f-75e7-432c-8417-f3a33615d944",
     "showTitle": false,
     "title": ""
    }
   },
   "outputs": [],
   "source": [
    "with open(\"userdata\", \"wb+\") as my_file:\n",
    "    my_file.write(blob_client.download_blob().readall())"
   ]
  },
  {
   "cell_type": "code",
   "execution_count": null,
   "metadata": {
    "application/vnd.databricks.v1+cell": {
     "inputWidgets": {},
     "nuid": "f4e18541-aa99-46aa-9a4e-66ca46ebdaab",
     "showTitle": false,
     "title": ""
    }
   },
   "outputs": [],
   "source": [
    "reader: DataFileReader = DataFileReader(open('userdata', 'rb'), DatumReader())\n",
    "schema: dict = json.loads(reader.meta.get('avro.schema').decode('utf-8'))"
   ]
  },
  {
   "cell_type": "code",
   "execution_count": null,
   "metadata": {
    "application/vnd.databricks.v1+cell": {
     "inputWidgets": {},
     "nuid": "2e141e38-5521-42d4-adc4-b2c10cc0fde0",
     "showTitle": false,
     "title": ""
    }
   },
   "outputs": [],
   "source": [
    "import os\n",
    "os.remove(\"userdata\")"
   ]
  },
  {
   "cell_type": "code",
   "execution_count": null,
   "metadata": {
    "application/vnd.databricks.v1+cell": {
     "inputWidgets": {},
     "nuid": "0879f8e2-b4f8-48a2-b2f2-24da927bf5ac",
     "showTitle": false,
     "title": ""
    }
   },
   "outputs": [],
   "source": [
    "len(schema['fields'])"
   ]
  },
  {
   "cell_type": "code",
   "execution_count": null,
   "metadata": {
    "application/vnd.databricks.v1+cell": {
     "inputWidgets": {},
     "nuid": "96211fd7-b633-4938-aab9-2ec1b2db3365",
     "showTitle": false,
     "title": ""
    }
   },
   "outputs": [],
   "source": [
    "fields = {}\n",
    "for i in schema['fields']:\n",
    "    if isinstance(i['type'],list):\n",
    "        fields.update({i['name']: i['type'][1]})\n",
    "    else:\n",
    "        fields.update({i['name']: i['type']})"
   ]
  },
  {
   "cell_type": "code",
   "execution_count": null,
   "metadata": {
    "application/vnd.databricks.v1+cell": {
     "inputWidgets": {},
     "nuid": "a7ac1870-989f-4e05-9ae1-e305044d3e77",
     "showTitle": false,
     "title": ""
    }
   },
   "outputs": [],
   "source": [
    "for k,v in fields.items():\n",
    "    print(k+' - '+v)"
   ]
  },
  {
   "cell_type": "code",
   "execution_count": null,
   "metadata": {
    "application/vnd.databricks.v1+cell": {
     "inputWidgets": {},
     "nuid": "4b52a13d-f9ce-436f-829f-6283f873fdb3",
     "showTitle": false,
     "title": ""
    }
   },
   "outputs": [],
   "source": [
    "AAD_TENANT_ID = \"<TENANT_ID>\"            # from Active Directory\n",
    "KUSTO_URI = \"<KUSTO_URI>\"                # from ADX overview page\n",
    "KUSTO_INGEST_URI = \"<KUSTO_INGEST_URI>\"  # from ADX overview page\n",
    "KUSTO_DATABASE = \"<DATABASE_NAME>\"       # from ADX overview page  "
   ]
  },
  {
   "cell_type": "code",
   "execution_count": null,
   "metadata": {
    "application/vnd.databricks.v1+cell": {
     "inputWidgets": {},
     "nuid": "a9c757b4-698f-4bc0-88b9-2a4c39116676",
     "showTitle": false,
     "title": ""
    }
   },
   "outputs": [],
   "source": [
    "KCSB_INGEST = KustoConnectionStringBuilder.with_aad_device_authentication(\n",
    "KUSTO_INGEST_URI, AAD_TENANT_ID)\n",
    "KCSB_DATA = KustoConnectionStringBuilder.with_aad_device_authentication(\n",
    "KUSTO_URI, AAD_TENANT_ID)\n",
    "DESTINATION_TABLE = \"UserDataAvro\"\n",
    "# DESTINATION_TABLE_COLUMN_MAPPING = \"\""
   ]
  },
  {
   "cell_type": "code",
   "execution_count": null,
   "metadata": {
    "application/vnd.databricks.v1+cell": {
     "inputWidgets": {},
     "nuid": "9b56c4c4-b7aa-4981-9acb-8bed441ae061",
     "showTitle": false,
     "title": ""
    }
   },
   "outputs": [],
   "source": [
    "CONTAINER = \"<CONTAINER_NAME>\"\n",
    "ACCOUNT_NAME = \"<STORAGE_ACCOUNT_NAME>\" \n",
    "SAS_TOKEN = \"<SAS_Token>\" \n",
    "FILE_PATH = \"<PATH>\"\n",
    "FILE_SIZE = 0    # in bytes\n",
    "\n",
    "BLOB_PATH = \"https://\" + ACCOUNT_NAME + \".blob.core.windows.net/\" + \\\n",
    "    CONTAINER + \"/\" + FILE_PATH + SAS_TOKEN"
   ]
  },
  {
   "cell_type": "code",
   "execution_count": null,
   "metadata": {
    "application/vnd.databricks.v1+cell": {
     "inputWidgets": {},
     "nuid": "eac38ae0-0199-4095-96d8-bf70b25213ed",
     "showTitle": false,
     "title": ""
    }
   },
   "outputs": [],
   "source": [
    "KUSTO_CLIENT = KustoClient(KCSB_DATA)\n",
    "CREATE_TABLE_COMMAND = \".create external table UserDataAvro (registration_dttm :string, \\\n",
    "                                                             id :long , \\\n",
    "                                                             first_name : string, \\\n",
    "                                                             last_name : string, \\\n",
    "                                                             email : string, \\\n",
    "                                                             gender : string, \\\n",
    "                                                             ip_address : string, \\\n",
    "                                                             cc : long ,\\\n",
    "                                                             country : string, \\\n",
    "                                                             birthdate : string,\\\n",
    "                                                             salary : double, \\\n",
    "                                                             title : string , \\\n",
    "                                                             comments : string ) \\\n",
    "kind = storage \\\n",
    "dataformat = apacheavro \\\n",
    "( \\\n",
    "h@'\" + str(BLOB_PATH) + \"'\\\n",
    ")\"\n",
    "RESPONSE = KUSTO_CLIENT.execute_mgmt(KUSTO_DATABASE, CREATE_TABLE_COMMAND)\n",
    "dataframe_from_result_table(RESPONSE.primary_results[0])"
   ]
  },
  {
   "cell_type": "code",
   "execution_count": null,
   "metadata": {
    "application/vnd.databricks.v1+cell": {
     "inputWidgets": {},
     "nuid": "ed40f8e9-01ad-4a87-a730-059679435c56",
     "showTitle": false,
     "title": ""
    }
   },
   "outputs": [],
   "source": [
    "QUERY = \"external_table('UserDataAvro') | take 10\"\n",
    "\n",
    "RESPONSE = KUSTO_CLIENT.execute_query(KUSTO_DATABASE, QUERY)\n",
    "\n",
    "dataframe_from_result_table(RESPONSE.primary_results[0])"
   ]
  }
 ],
 "metadata": {
  "application/vnd.databricks.v1+notebook": {
   "dashboards": [],
   "language": "python",
   "notebookMetadata": {
    "pythonIndentUnit": 4
   },
   "notebookName": "adx-avro-ext-table",
   "notebookOrigID": 2267188636976435,
   "widgets": {}
  },
  "kernelspec": {
   "display_name": "Python 3",
   "language": "python",
   "name": "python3"
  },
  "language_info": {
   "codemirror_mode": {
    "name": "ipython",
    "version": 3
   },
   "file_extension": ".py",
   "mimetype": "text/x-python",
   "name": "python",
   "nbconvert_exporter": "python",
   "pygments_lexer": "ipython3",
   "version": "3.7.3"
  }
 },
 "nbformat": 4,
 "nbformat_minor": 1
}
